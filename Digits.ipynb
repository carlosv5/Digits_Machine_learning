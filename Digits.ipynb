{
 "cells": [
  {
   "cell_type": "markdown",
   "metadata": {},
   "source": [
    "![](files/images/EscUpmPolit_p.gif \"UPM\")\n",
    "\n",
    "# Course Notes for Learning Intelligent Systems\n",
    "\n",
    "Department of Telematic Engineering Systems, Universidad Politécnica de Madrid, © 2016 Carlos A. Iglesias\n",
    "Student: Carlos Vega García"
   ]
  },
  {
   "cell_type": "markdown",
   "metadata": {},
   "source": [
    "# Digits dataset"
   ]
  },
  {
   "cell_type": "markdown",
   "metadata": {},
   "source": [
    "## Reading dataset"
   ]
  },
  {
   "cell_type": "markdown",
   "metadata": {},
   "source": [
    "In ordert to read the dataset, we import the datasets bundle and then load the Digits dataset. "
   ]
  },
  {
   "cell_type": "code",
   "execution_count": 51,
   "metadata": {
    "collapsed": true
   },
   "outputs": [],
   "source": [
    "# import load_digits dataset from scikit-learn\n",
    "from sklearn.datasets import load_digits\n",
    "\n",
    "# load iris dataset\n",
    "digits = load_digits()"
   ]
  },
  {
   "cell_type": "code",
   "execution_count": 52,
   "metadata": {
    "collapsed": false
   },
   "outputs": [
    {
     "name": "stdout",
     "output_type": "stream",
     "text": [
      "(1797, 64)\n"
     ]
    }
   ],
   "source": [
    "print(digits.data.shape)\n",
    "#print(digits.DESCR)\n",
    "\n"
   ]
  },
  {
   "cell_type": "markdown",
   "metadata": {},
   "source": [
    "Now we have read the dataset we can see it characteristics and values\n"
   ]
  },
  {
   "cell_type": "code",
   "execution_count": 53,
   "metadata": {
    "collapsed": false
   },
   "outputs": [
    {
     "name": "stdout",
     "output_type": "stream",
     "text": [
      "[[  0.   0.   5. ...,   0.   0.   0.]\n",
      " [  0.   0.   0. ...,  10.   0.   0.]\n",
      " [  0.   0.   0. ...,  16.   9.   0.]\n",
      " ..., \n",
      " [  0.   0.   1. ...,   6.   0.   0.]\n",
      " [  0.   0.   2. ...,  12.   0.   0.]\n",
      " [  0.   0.  10. ...,  12.   1.   0.]]\n",
      "(1797, 64)\n",
      "[0 1 2 ..., 8 9 8]\n",
      "(1797,)\n",
      "(1797, 8, 8)\n"
     ]
    }
   ],
   "source": [
    "print(digits.data)\n",
    "print(digits.data.shape)\n",
    "print(digits.target)\n",
    "print(digits.target.shape)\n",
    "print(digits.images.shape)"
   ]
  },
  {
   "cell_type": "markdown",
   "metadata": {},
   "source": [
    "It has 1797 rows and 64 columns. So we have 1797 samples and 64 features. \n",
    "\n",
    "\n",
    "This features tell us the attributes of each sample and we have to find the correct number with them.\n",
    "\n",
    "\n",
    "We can see we have 1797 target values from 0 to 9. Each one represents the number that the person wrote.\n",
    "\n",
    "Each one of these 64 features represent the number of pixels (0 to 16) that a block(4x4) of the whole bitmap(32x32) has. So, we have an 8x8 matrix with these numbers of pixels.\n",
    "\n",
    "\n",
    "We also have the images of the numbers. They have 1797 rows, each one has 8x8 pixels"
   ]
  },
  {
   "cell_type": "markdown",
   "metadata": {},
   "source": [
    "## Visualization"
   ]
  },
  {
   "cell_type": "markdown",
   "metadata": {},
   "source": [
    "In the dataset's webpage, they teach us how to visualize the images of the numbers. We can see all of them replacing the number of the row in the command plt.matshow(digits.images[Number])"
   ]
  },
  {
   "cell_type": "code",
   "execution_count": 54,
   "metadata": {
    "collapsed": false
   },
   "outputs": [
    {
     "data": {
      "text/plain": [
       "<matplotlib.figure.Figure at 0x7ff7b84962e8>"
      ]
     },
     "metadata": {},
     "output_type": "display_data"
    },
    {
     "data": {
      "image/png": "[encoded data removed]",
      "text/plain": [
       "<matplotlib.figure.Figure at 0x7ff7b8496320>"
      ]
     },
     "metadata": {},
     "output_type": "display_data"
    }
   ],
   "source": [
    "import matplotlib.pyplot as plt\n",
    "plt.gray() \n",
    "plt.matshow(digits.images[0]) \n",
    "plt.show() "
   ]
  },
  {
   "cell_type": "markdown",
   "metadata": {},
   "source": [
    "The kind of data (pixels of an image) make some types of plots useless. For example, I think it makes no sense the scatter diagrams because comparing pixels between images does not give us important information.\n",
    "\n",
    "#### Histogram\n",
    "\n",
    "We can see how many samples of each class we have using a histogram."
   ]
  },
  {
   "cell_type": "code",
   "execution_count": 55,
   "metadata": {
    "collapsed": false
   },
   "outputs": [
    {
     "data": {
      "image/png": "[encoded data removed]",
      "text/plain": [
       "<matplotlib.figure.Figure at 0x7ff7bfa80160>"
      ]
     },
     "metadata": {},
     "output_type": "display_data"
    }
   ],
   "source": [
    "# Plot histogram, the default is 10 bins\n",
    "%matplotlib inline\n",
    "plt.hist(digits.target)\n",
    "plt.ylabel('Number of instances')\n",
    "plt.xlabel('digits class')\n",
    "plt.xticks(range(len(digits.target_names)), digits.target_names);"
   ]
  },
  {
   "cell_type": "markdown",
   "metadata": {},
   "source": [
    "So, we can see that each number has more or less the same number of appearances in the data but not the same\n"
   ]
  },
  {
   "cell_type": "markdown",
   "metadata": {},
   "source": [
    "#### Dataframe\n",
    "\n",
    "I represent the data as a DataFrame object from the library pandas. "
   ]
  },
  {
   "cell_type": "code",
   "execution_count": 56,
   "metadata": {
    "collapsed": false
   },
   "outputs": [
    {
     "data": {
      "text/html": [
       "<div>\n",
       "<table border=\"1\" class=\"dataframe\">\n",
       "  <thead>\n",
       "    <tr style=\"text-align: right;\">\n",
       "      <th></th>\n",
       "      <th>0</th>\n",
       "      <th>1</th>\n",
       "      <th>2</th>\n",
       "      <th>3</th>\n",
       "      <th>4</th>\n",
       "      <th>5</th>\n",
       "      <th>6</th>\n",
       "      <th>7</th>\n",
       "      <th>8</th>\n",
       "      <th>9</th>\n",
       "      <th>...</th>\n",
       "      <th>55</th>\n",
       "      <th>56</th>\n",
       "      <th>57</th>\n",
       "      <th>58</th>\n",
       "      <th>59</th>\n",
       "      <th>60</th>\n",
       "      <th>61</th>\n",
       "      <th>62</th>\n",
       "      <th>63</th>\n",
       "      <th>target</th>\n",
       "    </tr>\n",
       "  </thead>\n",
       "  <tbody>\n",
       "    <tr>\n",
       "      <th>0</th>\n",
       "      <td>0.0</td>\n",
       "      <td>0.0</td>\n",
       "      <td>5.0</td>\n",
       "      <td>13.0</td>\n",
       "      <td>9.0</td>\n",
       "      <td>1.0</td>\n",
       "      <td>0.0</td>\n",
       "      <td>0.0</td>\n",
       "      <td>0.0</td>\n",
       "      <td>0.0</td>\n",
       "      <td>...</td>\n",
       "      <td>0.0</td>\n",
       "      <td>0.0</td>\n",
       "      <td>0.0</td>\n",
       "      <td>6.0</td>\n",
       "      <td>13.0</td>\n",
       "      <td>10.0</td>\n",
       "      <td>0.0</td>\n",
       "      <td>0.0</td>\n",
       "      <td>0.0</td>\n",
       "      <td>0</td>\n",
       "    </tr>\n",
       "    <tr>\n",
       "      <th>1</th>\n",
       "      <td>0.0</td>\n",
       "      <td>0.0</td>\n",
       "      <td>0.0</td>\n",
       "      <td>12.0</td>\n",
       "      <td>13.0</td>\n",
       "      <td>5.0</td>\n",
       "      <td>0.0</td>\n",
       "      <td>0.0</td>\n",
       "      <td>0.0</td>\n",
       "      <td>0.0</td>\n",
       "      <td>...</td>\n",
       "      <td>0.0</td>\n",
       "      <td>0.0</td>\n",
       "      <td>0.0</td>\n",
       "      <td>0.0</td>\n",
       "      <td>11.0</td>\n",
       "      <td>16.0</td>\n",
       "      <td>10.0</td>\n",
       "      <td>0.0</td>\n",
       "      <td>0.0</td>\n",
       "      <td>1</td>\n",
       "    </tr>\n",
       "    <tr>\n",
       "      <th>2</th>\n",
       "      <td>0.0</td>\n",
       "      <td>0.0</td>\n",
       "      <td>0.0</td>\n",
       "      <td>4.0</td>\n",
       "      <td>15.0</td>\n",
       "      <td>12.0</td>\n",
       "      <td>0.0</td>\n",
       "      <td>0.0</td>\n",
       "      <td>0.0</td>\n",
       "      <td>0.0</td>\n",
       "      <td>...</td>\n",
       "      <td>0.0</td>\n",
       "      <td>0.0</td>\n",
       "      <td>0.0</td>\n",
       "      <td>0.0</td>\n",
       "      <td>3.0</td>\n",
       "      <td>11.0</td>\n",
       "      <td>16.0</td>\n",
       "      <td>9.0</td>\n",
       "      <td>0.0</td>\n",
       "      <td>2</td>\n",
       "    </tr>\n",
       "    <tr>\n",
       "      <th>3</th>\n",
       "      <td>0.0</td>\n",
       "      <td>0.0</td>\n",
       "      <td>7.0</td>\n",
       "      <td>15.0</td>\n",
       "      <td>13.0</td>\n",
       "      <td>1.0</td>\n",
       "      <td>0.0</td>\n",
       "      <td>0.0</td>\n",
       "      <td>0.0</td>\n",
       "      <td>8.0</td>\n",
       "      <td>...</td>\n",
       "      <td>0.0</td>\n",
       "      <td>0.0</td>\n",
       "      <td>0.0</td>\n",
       "      <td>7.0</td>\n",
       "      <td>13.0</td>\n",
       "      <td>13.0</td>\n",
       "      <td>9.0</td>\n",
       "      <td>0.0</td>\n",
       "      <td>0.0</td>\n",
       "      <td>3</td>\n",
       "    </tr>\n",
       "    <tr>\n",
       "      <th>4</th>\n",
       "      <td>0.0</td>\n",
       "      <td>0.0</td>\n",
       "      <td>0.0</td>\n",
       "      <td>1.0</td>\n",
       "      <td>11.0</td>\n",
       "      <td>0.0</td>\n",
       "      <td>0.0</td>\n",
       "      <td>0.0</td>\n",
       "      <td>0.0</td>\n",
       "      <td>0.0</td>\n",
       "      <td>...</td>\n",
       "      <td>0.0</td>\n",
       "      <td>0.0</td>\n",
       "      <td>0.0</td>\n",
       "      <td>0.0</td>\n",
       "      <td>2.0</td>\n",
       "      <td>16.0</td>\n",
       "      <td>4.0</td>\n",
       "      <td>0.0</td>\n",
       "      <td>0.0</td>\n",
       "      <td>4</td>\n",
       "    </tr>\n",
       "  </tbody>\n",
       "</table>\n",
       "<p>5 rows × 65 columns</p>\n",
       "</div>"
      ],
      "text/plain": [
       "     0    1    2     3     4     5    6    7    8    9   ...     55   56   57  \\\n",
       "0  0.0  0.0  5.0  13.0   9.0   1.0  0.0  0.0  0.0  0.0   ...    0.0  0.0  0.0   \n",
       "1  0.0  0.0  0.0  12.0  13.0   5.0  0.0  0.0  0.0  0.0   ...    0.0  0.0  0.0   \n",
       "2  0.0  0.0  0.0   4.0  15.0  12.0  0.0  0.0  0.0  0.0   ...    0.0  0.0  0.0   \n",
       "3  0.0  0.0  7.0  15.0  13.0   1.0  0.0  0.0  0.0  8.0   ...    0.0  0.0  0.0   \n",
       "4  0.0  0.0  0.0   1.0  11.0   0.0  0.0  0.0  0.0  0.0   ...    0.0  0.0  0.0   \n",
       "\n",
       "    58    59    60    61   62   63  target  \n",
       "0  6.0  13.0  10.0   0.0  0.0  0.0       0  \n",
       "1  0.0  11.0  16.0  10.0  0.0  0.0       1  \n",
       "2  0.0   3.0  11.0  16.0  9.0  0.0       2  \n",
       "3  7.0  13.0  13.0   9.0  0.0  0.0       3  \n",
       "4  0.0   2.0  16.0   4.0  0.0  0.0       4  \n",
       "\n",
       "[5 rows x 65 columns]"
      ]
     },
     "execution_count": 56,
     "metadata": {},
     "output_type": "execute_result"
    }
   ],
   "source": [
    "from sklearn import datasets\n",
    "from pandas import DataFrame\n",
    "\n",
    "# transform into dataframe\n",
    "digits_df = DataFrame(digits.data)\n",
    "digits_df['target'] = digits.target\n",
    "digits_df.head()\n",
    "\n"
   ]
  },
  {
   "cell_type": "markdown",
   "metadata": {},
   "source": [
    "We can see each row of Digits and the value of each pixel. The target column shows the number that this pixels represents"
   ]
  },
  {
   "cell_type": "markdown",
   "metadata": {},
   "source": [
    "## Preprocessing"
   ]
  },
  {
   "cell_type": "markdown",
   "metadata": {},
   "source": [
    "#### Training set and Test set\n",
    "\n",
    "I am going to separate the dataset in training data and test data. I'm going to take 25% of data to test. I take random_state 33 in order to have always the same distribution of data in the two types.\n",
    "\n",
    "\n",
    "(In the original data we have training and test data but we don't know what rows are of each type so I'm going to do another division in order to process the data)."
   ]
  },
  {
   "cell_type": "code",
   "execution_count": 103,
   "metadata": {
    "collapsed": true
   },
   "outputs": [],
   "source": [
    "from sklearn.model_selection import train_test_split\n",
    "x_digits, y_digits = digits.data, digits.target\n",
    "# Test set will be the 25% taken randomly\n",
    "x_train, x_test, y_train, y_test = train_test_split(x_digits, y_digits, test_size=0.25, random_state=33)"
   ]
  },
  {
   "cell_type": "markdown",
   "metadata": {},
   "source": [
    "Now we can see the number of rows we have for each purpose and the data"
   ]
  },
  {
   "cell_type": "code",
   "execution_count": 104,
   "metadata": {
    "collapsed": false
   },
   "outputs": [
    {
     "name": "stdout",
     "output_type": "stream",
     "text": [
      "Dimensions of train and testing\n",
      "(1347, 64) (450, 64)\n",
      "Train set\n",
      "[[  0.   0.   1. ...,   0.   0.   0.]\n",
      " [  0.   0.   4. ...,   0.   0.   0.]\n",
      " [  0.   0.   0. ...,   0.   0.   0.]\n",
      " ..., \n",
      " [  0.   0.   4. ...,   0.   0.   0.]\n",
      " [  0.   0.  12. ...,   0.   0.   0.]\n",
      " [  0.   1.   7. ...,   0.   0.   0.]]\n",
      "Test set\n",
      "[[  0.   0.   4. ...,  11.   0.   0.]\n",
      " [  0.   0.   3. ...,  16.  10.   0.]\n",
      " [  0.   0.   7. ...,   0.   0.   0.]\n",
      " ..., \n",
      " [  0.   0.   6. ...,  12.   1.   0.]\n",
      " [  0.   0.   0. ...,  11.   1.   0.]\n",
      " [  0.   0.   0. ...,  16.  11.   0.]]\n"
     ]
    }
   ],
   "source": [
    "# Dimensions of train and testing\n",
    "print(\"Dimensions of train and testing\") \n",
    "print(x_train.shape, x_test.shape)\n",
    "\n",
    "#Train set\n",
    "print(\"Train set\") \n",
    "print (x_train)\n",
    "\n",
    "#Test set\n",
    "print(\"Test set\") \n",
    "print (x_test)"
   ]
  },
  {
   "cell_type": "markdown",
   "metadata": {},
   "source": [
    "#### Preprocessing\n",
    "Now I'm going to Standardize the data in order to apply machine learning algorithms later. We need to have all the variables in the same units in order to have all of them the same weight in the algorithms. In this case I think it does not matter because the variables are all pixels\n"
   ]
  },
  {
   "cell_type": "code",
   "execution_count": 105,
   "metadata": {
    "collapsed": false
   },
   "outputs": [
    {
     "name": "stdout",
     "output_type": "stream",
     "text": [
      "[[ 0.         -0.32672314 -0.2423893  ...,  0.73926354 -0.49709493\n",
      "  -0.19054741]\n",
      " [ 0.         -0.32672314 -0.4534419  ...,  1.58229435  1.97553015\n",
      "  -0.19054741]\n",
      " [ 0.         -0.32672314  0.39076852 ..., -1.11540424 -0.49709493\n",
      "  -0.19054741]\n",
      " ..., \n",
      " [ 0.         -0.32672314  0.17971592 ...,  0.90786971 -0.24983242\n",
      "  -0.19054741]\n",
      " [ 0.         -0.32672314 -1.08659972 ...,  0.73926354 -0.24983242\n",
      "  -0.19054741]\n",
      " [ 0.         -0.32672314 -1.08659972 ...,  1.58229435  2.22279266\n",
      "  -0.19054741]]\n"
     ]
    }
   ],
   "source": [
    "# Standardize the features\n",
    "from sklearn import preprocessing\n",
    "scaler = preprocessing.StandardScaler().fit(x_train)\n",
    "x_train = scaler.transform(x_train)\n",
    "x_test = scaler.transform(x_test)\n",
    "# The digits dataset is now  normalized\n",
    "print(x_test)"
   ]
  },
  {
   "cell_type": "markdown",
   "metadata": {},
   "source": [
    "## Machine learning\n",
    "####  KNeighborsClassifier\n",
    "We have preprocessed the data. Now we are going to classify the rows depending the K neighbours. In order to do that, first we have to create the model (we have to put the number of neighbours we are going to deal with). We are going to fit the model with the train rows, and finally we are going to predict the test results."
   ]
  },
  {
   "cell_type": "code",
   "execution_count": 106,
   "metadata": {
    "collapsed": false
   },
   "outputs": [
    {
     "data": {
      "text/plain": [
       "KNeighborsClassifier(algorithm='auto', leaf_size=30, metric='minkowski',\n",
       "           metric_params=None, n_jobs=1, n_neighbors=15, p=2,\n",
       "           weights='uniform')"
      ]
     },
     "execution_count": 106,
     "metadata": {},
     "output_type": "execute_result"
    }
   ],
   "source": [
    "from sklearn.neighbors import KNeighborsClassifier\n",
    "import numpy as np\n",
    "\n",
    "# Create kNN model\n",
    "model = KNeighborsClassifier(n_neighbors=15)\n",
    "\n",
    "# Train the model using the training sets\n",
    "model.fit(x_train, y_train)"
   ]
  },
  {
   "cell_type": "code",
   "execution_count": 107,
   "metadata": {
    "collapsed": false
   },
   "outputs": [
    {
     "name": "stdout",
     "output_type": "stream",
     "text": [
      "Prediction  [4 7 4 ..., 1 5 5]\n",
      "Expected  [4 7 4 ..., 1 5 5]\n"
     ]
    }
   ],
   "source": [
    "print(\"Prediction \", model.predict(x_train))\n",
    "print(\"Expected \", y_train)"
   ]
  },
  {
   "cell_type": "markdown",
   "metadata": {},
   "source": [
    "Here we have the precited results of the x_train rows and we can compare it with the expected results because they are the y_train. We don't see every number but we can see it success in the 6 numbers we see. So, now we are going to calculate the accuracy of the model, in other words, the probability of predict right the number that the model has."
   ]
  },
  {
   "cell_type": "code",
   "execution_count": 108,
   "metadata": {
    "collapsed": false
   },
   "outputs": [
    {
     "name": "stdout",
     "output_type": "stream",
     "text": [
      "Accuracy in training 0.973273942094\n"
     ]
    }
   ],
   "source": [
    "# Evaluate Accuracy in training\n",
    "\n",
    "from sklearn import metrics\n",
    "y_train_pred = model.predict(x_train)\n",
    "print(\"Accuracy in training\", metrics.accuracy_score(y_train, y_train_pred))\n"
   ]
  },
  {
   "cell_type": "markdown",
   "metadata": {},
   "source": [
    "The accuracy in training data is 0.97 so the model predicts the right number at 97.32%"
   ]
  },
  {
   "cell_type": "code",
   "execution_count": 109,
   "metadata": {
    "collapsed": false
   },
   "outputs": [
    {
     "name": "stdout",
     "output_type": "stream",
     "text": [
      "Accuracy in testing  0.971111111111\n"
     ]
    }
   ],
   "source": [
    "# Now we evaluate error in testing\n",
    "y_test_pred = model.predict(x_test)\n",
    "print(\"Accuracy in testing \", metrics.accuracy_score(y_test, y_test_pred))"
   ]
  },
  {
   "cell_type": "markdown",
   "metadata": {},
   "source": [
    "The accuracy in test data is 0.97 so the model predicts the right number at 97.11%. It is normal that the accuracy for test data is lower than for the training one because the adjust/fit of the model is done with training data."
   ]
  },
  {
   "cell_type": "markdown",
   "metadata": {},
   "source": [
    "Now, we calculate the metrics of the model based on test data"
   ]
  },
  {
   "cell_type": "code",
   "execution_count": 110,
   "metadata": {
    "collapsed": false
   },
   "outputs": [
    {
     "name": "stdout",
     "output_type": "stream",
     "text": [
      "             precision    recall  f1-score   support\n",
      "\n",
      "          [       1.00      1.00      1.00        35\n",
      "          0       0.96      0.98      0.97        54\n",
      "                  1.00      1.00      1.00        44\n",
      "          1       0.98      0.96      0.97        46\n",
      "                  1.00      0.91      0.96        35\n",
      "          2       0.98      0.96      0.97        48\n",
      "                  0.98      1.00      0.99        51\n",
      "          .       0.97      1.00      0.99        35\n",
      "          .       0.90      0.95      0.92        58\n",
      "          .       0.98      0.95      0.97        44\n",
      "\n",
      "avg / total       0.97      0.97      0.97       450\n",
      "\n",
      "[1 3 7 3 2 4 6 1 4 0 4 7 8 9 2 8 3 6 7 0 6 0 8 3 0 6 2 3 0 9 0 2 0 6 9 1 1\n",
      " 5 8 0 6 1 5 8 9 5 1 6 2 6 6 7 6 7 7 2 7 8 0 7 3 6 3 9 6 6 5 5 4 2 9 3 7 6\n",
      " 5 7 2 8 1 2 2 8 1 1 6 3 5 0 0 1 6 7 5 8 9 7 0 0 9 8 0 8 2 3 6 1 9 9 1 7 8\n",
      " 9 8 8 5 9 5 1 1 9 9 3 3 2 8 1 3 8 6 4 0 0 0 7 1 5 5 1 8 5 1 8 8 6 9 9 4 5\n",
      " 7 5 2 1 2 3 8 7 7 5 1 9 1 9 8 0 6 1 2 1 3 3 8 9 6 8 4 1 0 0 9 8 7 2 8 6 4\n",
      " 8 9 4 2 6 1 8 5 6 7 5 1 9 2 8 3 2 9 4 8 5 5 6 2 4 3 2 6 4 8 5 8 0 8 8 6 3\n",
      " 2 3 0 5 7 1 3 9 3 2 1 6 6 5 1 9 7 2 4 5 2 1 3 1 1 2 1 7 0 1 2 2 1 2 4 9 6\n",
      " 6 3 9 2 8 1 5 5 1 8 6 2 5 6 0 1 4 2 1 8 9 4 3 0 6 8 3 3 2 0 2 5 6 5 6 6 4\n",
      " 6 1 8 3 4 1 3 5 1 4 9 8 7 5 1 1 3 7 8 8 3 7 4 0 7 2 9 7 1 9 4 5 3 5 2 5 1\n",
      " 3 0 5 8 4 7 6 9 9 3 3 4 8 6 4 7 0 6 8 2 3 3 4 5 3 3 5 2 0 9 7 1 5 5 8 4 4\n",
      " 3 6 2 5 1 0 6 1 5 8 4 9 6 4 3 8 0 3 0 1 2 8 0 5 4 5 2 8 9 6 9 8 0 8 8 2 4\n",
      " 6 5 6 4 3 9 8 9 7 1 7 9 4 1 5 9 5 9 8 6 8 2 5 1 4 2 6 3 7 9 8 7 4 3 7 1 8\n",
      " 8 9 5 3 6 6]\n"
     ]
    }
   ],
   "source": [
    "print(metrics.classification_report(y_test, y_test_pred, target_names=str(digits.target)))\n",
    "print(y_test)"
   ]
  },
  {
   "cell_type": "markdown",
   "metadata": {},
   "source": [
    "The precision says the proportion of digits predicted as positives that are correctly predicted.\n",
    "\n",
    "\n",
    "The Recall counts the proportion of positive digits that were correctly evaluated.\n",
    "\n",
    "\n",
    "The F1-Score is a proportion between these two metrics.\n",
    "\n",
    "\n",
    "In my case, the model has 0.97 of precision, recall and f1-score."
   ]
  },
  {
   "cell_type": "markdown",
   "metadata": {},
   "source": [
    "Here in the confusion matrix we can see how many times the model predicts a number wrong and which is the wrong number, in other words, the confusion between digits in the model."
   ]
  },
  {
   "cell_type": "code",
   "execution_count": 111,
   "metadata": {
    "collapsed": false
   },
   "outputs": [
    {
     "name": "stdout",
     "output_type": "stream",
     "text": [
      "[[35  0  0  0  0  0  0  0  0  0]\n",
      " [ 0 53  0  0  0  0  0  0  1  0]\n",
      " [ 0  0 44  0  0  0  0  0  0  0]\n",
      " [ 0  0  0 44  0  0  0  0  2  0]\n",
      " [ 0  0  0  0 32  0  0  1  2  0]\n",
      " [ 0  0  0  0  0 46  1  0  0  1]\n",
      " [ 0  0  0  0  0  0 51  0  0  0]\n",
      " [ 0  0  0  0  0  0  0 35  0  0]\n",
      " [ 0  2  0  1  0  0  0  0 55  0]\n",
      " [ 0  0  0  0  0  1  0  0  1 42]]\n"
     ]
    }
   ],
   "source": [
    "print(metrics.confusion_matrix(y_test, y_test_pred))"
   ]
  },
  {
   "cell_type": "markdown",
   "metadata": {},
   "source": [
    "For example, with test data, the model always predicts right the digit 0. But with digit 1 it confuse it with the digit 8 one time."
   ]
  },
  {
   "cell_type": "markdown",
   "metadata": {},
   "source": [
    "### K-fold validation\n",
    "We do K-fold validation with k = 10. So the model it is going to traing with 9 distincts parts of the data each time and test with the one remaining."
   ]
  },
  {
   "cell_type": "code",
   "execution_count": 112,
   "metadata": {
    "collapsed": false
   },
   "outputs": [
    {
     "name": "stdout",
     "output_type": "stream",
     "text": [
      "[ 0.98333333  0.98333333  0.96666667  0.95555556  0.98888889  0.97777778\n",
      "  0.96666667  0.98882682  0.98324022  0.97206704]\n"
     ]
    }
   ],
   "source": [
    "from sklearn.model_selection import cross_val_score, KFold\n",
    "from sklearn.pipeline import Pipeline\n",
    "from sklearn.preprocessing import StandardScaler\n",
    "\n",
    "# create a composite estimator made by a pipeline of preprocessing and the KNN model\n",
    "model = Pipeline([\n",
    "        ('scaler', StandardScaler()),\n",
    "        ('kNN', KNeighborsClassifier())\n",
    "])\n",
    "\n",
    "# create a k-fold cross validation iterator of k=10 folds\n",
    "cv = KFold(10, shuffle=True, random_state=22)\n",
    "\n",
    "# by default the score used is the one returned by score method of the estimator (accuracy)\n",
    "scores = cross_val_score(model, x_digits, y_digits, cv=cv)\n",
    "print(scores)"
   ]
  },
  {
   "cell_type": "markdown",
   "metadata": {},
   "source": [
    "We have the accuracy of each combination in the 10 fold validation and we are going to calculate the mean of every accuracy"
   ]
  },
  {
   "cell_type": "code",
   "execution_count": 113,
   "metadata": {
    "collapsed": false
   },
   "outputs": [
    {
     "name": "stdout",
     "output_type": "stream",
     "text": [
      "Mean score: 0.977 (+/- 0.003)\n"
     ]
    }
   ],
   "source": [
    "from scipy.stats import sem\n",
    "def mean_score(scores):\n",
    "    return (\"Mean score: {0:.3f} (+/- {1:.3f})\").format(np.mean(scores), sem(scores))\n",
    "print(mean_score(scores))"
   ]
  },
  {
   "cell_type": "code",
   "execution_count": 114,
   "metadata": {
    "collapsed": false
   },
   "outputs": [
    {
     "data": {
      "text/plain": [
       "<matplotlib.text.Text at 0x7ff7b8218d30>"
      ]
     },
     "execution_count": 114,
     "metadata": {},
     "output_type": "execute_result"
    },
    {
     "data": {
      "image/png": "[encoded data removed]",
      "text/plain": [
       "<matplotlib.figure.Figure at 0x7ff7b8195780>"
      ]
     },
     "metadata": {},
     "output_type": "display_data"
    }
   ],
   "source": [
    "k_range = range(1, 21)\n",
    "accuracy = []\n",
    "for k in k_range:\n",
    "    m = KNeighborsClassifier(k)\n",
    "    m.fit(x_train, y_train)\n",
    "    y_test_pred = m.predict(x_test)\n",
    "    accuracy.append(metrics.accuracy_score(y_test, y_test_pred))\n",
    "plt.plot(k_range, accuracy)\n",
    "plt.xlabel('k value')\n",
    "plt.ylabel('Accuracy')"
   ]
  },
  {
   "cell_type": "markdown",
   "metadata": {},
   "source": [
    "In this plot we can see that the best K in KNN is 1 neighbours, so I'm going to repeat the algorithm with k=7"
   ]
  },
  {
   "cell_type": "code",
   "execution_count": 119,
   "metadata": {
    "collapsed": false
   },
   "outputs": [
    {
     "name": "stdout",
     "output_type": "stream",
     "text": [
      "Accuracy in training 1.0\n",
      "Accuracy in testing  0.98\n",
      "             precision    recall  f1-score   support\n",
      "\n",
      "          [       1.00      1.00      1.00        35\n",
      "          0       0.96      1.00      0.98        54\n",
      "                  1.00      0.98      0.99        44\n",
      "          1       1.00      0.98      0.99        46\n",
      "                  1.00      0.97      0.99        35\n",
      "          2       0.96      0.98      0.97        48\n",
      "                  0.98      1.00      0.99        51\n",
      "          .       1.00      1.00      1.00        35\n",
      "          .       0.97      0.97      0.97        58\n",
      "          .       0.95      0.93      0.94        44\n",
      "\n",
      "avg / total       0.98      0.98      0.98       450\n",
      "\n",
      "[[35  0  0  0  0  0  0  0  0  0]\n",
      " [ 0 54  0  0  0  0  0  0  0  0]\n",
      " [ 0  0 43  0  0  0  0  0  1  0]\n",
      " [ 0  0  0 45  0  0  0  0  0  1]\n",
      " [ 0  0  0  0 34  0  0  0  0  1]\n",
      " [ 0  0  0  0  0 47  1  0  0  0]\n",
      " [ 0  0  0  0  0  0 51  0  0  0]\n",
      " [ 0  0  0  0  0  0  0 35  0  0]\n",
      " [ 0  2  0  0  0  0  0  0 56  0]\n",
      " [ 0  0  0  0  0  2  0  0  1 41]]\n"
     ]
    }
   ],
   "source": [
    "from sklearn.neighbors import KNeighborsClassifier\n",
    "import numpy as np\n",
    "\n",
    "# Create kNN model\n",
    "model = KNeighborsClassifier(n_neighbors=1)\n",
    "\n",
    "# Train the model using the training sets\n",
    "model.fit(x_train, y_train)\n",
    "from sklearn import metrics\n",
    "y_train_pred = model.predict(x_train)\n",
    "print(\"Accuracy in training\", metrics.accuracy_score(y_train, y_train_pred))\n",
    "# Now we evaluate error in testing\n",
    "y_test_pred = model.predict(x_test)\n",
    "print(\"Accuracy in testing \", metrics.accuracy_score(y_test, y_test_pred))\n",
    "print(metrics.classification_report(y_test, y_test_pred, target_names=str(digits.target)))\n",
    "print(metrics.confusion_matrix(y_test, y_test_pred))"
   ]
  },
  {
   "cell_type": "markdown",
   "metadata": {},
   "source": [
    "So, here we can see it's right that it is better using K=1 neighbour. We have 100% accuracy in training and 98% accuracy in testing"
   ]
  }
 ],
 "metadata": {
  "kernelspec": {
   "display_name": "Python 3",
   "language": "python",
   "name": "python3"
  },
  "language_info": {
   "codemirror_mode": {
    "name": "ipython",
    "version": 3
   },
   "file_extension": ".py",
   "mimetype": "text/x-python",
   "name": "python",
   "nbconvert_exporter": "python",
   "pygments_lexer": "ipython3",
   "version": "3.6.0"
  }
 },
 "nbformat": 4,
 "nbformat_minor": 1
}
